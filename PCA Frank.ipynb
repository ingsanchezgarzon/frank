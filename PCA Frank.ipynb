{
 "cells": [
  {
   "cell_type": "code",
   "execution_count": 1,
   "metadata": {},
   "outputs": [],
   "source": [
    "import pandas as pd\n",
    "import numpy as np\n",
    "import matplotlib.pyplot as plt\n",
    "\n",
    "df = pd.read_csv('Documents/CleanDB3.csv', delimiter=';')\n",
    "df.head()\n",
    "\n",
    "mapping = {'January': 1, 'February': 2, 'March':3, 'April':4, 'May':5, 'June': 6, 'July': 7, 'August':8, 'September':9, 'October':10, 'November':11, 'December':12}\n",
    "df['MonthN']=df.Month.map(mapping)\n",
    "\n",
    "mapping2 = {'1.2 Late delivery from suppliers/subcontractors': 1,\n",
    "'1.4 Ship Rescheduling/Reallocation : Change of vessel ' : 2,\n",
    "'1.1 Late issue of AFC documentation':3,\n",
    "'1.3 Late availability of ships extra costs':4,\n",
    "'2.1 Incorrect estimate of cost in tender':5,\n",
    "'2.2 Improper White Book Rates / Escalations':6,\n",
    "'2.4 Incorrect estimate of allowances/contingencies':7,\n",
    "'2.5 Improper Contract/Subcontract Flowdown':8,\n",
    "'3.1 Materials and equipment delivered out-of specs':9,\n",
    "'3.2 Incomplete or partial delivery':10,\n",
    "'4.1 Incorrect design engineering':11,\n",
    "'4.2 Incorrect installation engineering':12,\n",
    "'4.3 Extra costs/staff cause by final docs delay':13,\n",
    "'4.5 Incorrect execution offshore by Acergy':14,\n",
    "'4.6 Incorrect execution offshore by 3rd party':15,\n",
    "'4.7 Incorrect onshore local logistic':16,\n",
    "'5. EQUIPMENT BREAKDOWN':17,\n",
    "'5.1 Lack of preventive maintenance':18,\n",
    "'5.2 Misuse of equipment':19}\n",
    "df['CauseN']=df.Causes_details.map(mapping2)\n",
    "\n",
    "df = df.drop(columns = ['Quarter','Month', 'Main Category', 'Category_details', 'Main_Causes', 'Causes_details'])"
   ]
  },
  {
   "cell_type": "code",
   "execution_count": 13,
   "metadata": {},
   "outputs": [],
   "source": [
    "df.CauseN.fillna(0.0,inplace=True)"
   ]
  },
  {
   "cell_type": "code",
   "execution_count": 15,
   "metadata": {},
   "outputs": [
    {
     "data": {
      "text/plain": [
       "Project    0\n",
       "FY         0\n",
       "Amount     0\n",
       "MonthN     0\n",
       "CauseN     0\n",
       "dtype: int64"
      ]
     },
     "execution_count": 15,
     "metadata": {},
     "output_type": "execute_result"
    }
   ],
   "source": [
    "df.isna().sum()"
   ]
  },
  {
   "cell_type": "code",
   "execution_count": 17,
   "metadata": {},
   "outputs": [
    {
     "name": "stdout",
     "output_type": "stream",
     "text": [
      "521 521\n"
     ]
    }
   ],
   "source": [
    "#converting df columns into np arrays\n",
    "\n",
    "CauseN_array= df.CauseN.to_numpy()\n",
    "MonthN_array= df.MonthN.to_numpy()\n",
    "#Counting the number of values in each array\n",
    "print(np.count_nonzero(~np.isnan(CauseN_array)),np.count_nonzero(~np.isnan(MonthN_array)))"
   ]
  },
  {
   "cell_type": "code",
   "execution_count": 20,
   "metadata": {},
   "outputs": [
    {
     "data": {
      "image/png": "[encoded data removed]",
      "text/plain": [
       "<Figure size 432x288 with 1 Axes>"
      ]
     },
     "metadata": {
      "needs_background": "light"
     },
     "output_type": "display_data"
    }
   ],
   "source": [
    "plt.scatter(CauseN_array, MonthN_array)\n",
    "plt.axis('equal')\n",
    "plt.show()\n"
   ]
  },
  {
   "cell_type": "code",
   "execution_count": 22,
   "metadata": {},
   "outputs": [
    {
     "data": {
      "text/plain": [
       "array([[ 1.,  8.],\n",
       "       [ 2.,  6.],\n",
       "       [ 2.,  5.],\n",
       "       ...,\n",
       "       [18.,  3.],\n",
       "       [18., 12.],\n",
       "       [19.,  3.]])"
      ]
     },
     "execution_count": 22,
     "metadata": {},
     "output_type": "execute_result"
    }
   ],
   "source": [
    "# Combining to form only one 2dimension array\n",
    "combined = np.vstack((CauseN_array, MonthN_array)).T\n",
    "combined"
   ]
  },
  {
   "cell_type": "code",
   "execution_count": 24,
   "metadata": {},
   "outputs": [],
   "source": [
    "from sklearn.decomposition import PCA\n",
    "model = PCA()\n",
    "pca_features = model.fit_transform(combined)\n",
    "xs = pca_features[:,0]\n",
    "ys = pca_features[:,1]"
   ]
  },
  {
   "cell_type": "code",
   "execution_count": 26,
   "metadata": {},
   "outputs": [
    {
     "data": {
      "image/png": "[encoded data removed]",
      "text/plain": [
       "<Figure size 432x288 with 1 Axes>"
      ]
     },
     "metadata": {
      "needs_background": "light"
     },
     "output_type": "display_data"
    }
   ],
   "source": [
    "plt.scatter(xs, ys)\n",
    "plt.axis('equal')\n",
    "plt.show()\n"
   ]
  }
 ],
 "metadata": {
  "kernelspec": {
   "display_name": "Python 3",
   "language": "python",
   "name": "python3"
  },
  "language_info": {
   "codemirror_mode": {
    "name": "ipython",
    "version": 3
   },
   "file_extension": ".py",
   "mimetype": "text/x-python",
   "name": "python",
   "nbconvert_exporter": "python",
   "pygments_lexer": "ipython3",
   "version": "3.7.3"
  }
 },
 "nbformat": 4,
 "nbformat_minor": 2
}
